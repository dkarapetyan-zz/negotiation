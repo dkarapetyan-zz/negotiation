{
 "cells": [
  {
   "cell_type": "markdown",
   "metadata": {
    "button": false,
    "deletable": true,
    "new_sheet": false,
    "run_control": {
     "read_only": false
    }
   },
   "source": [
    "#  Introduction\n",
    "\n",
    "Author: David Karapetyan\n",
    "\n",
    "O'Really conducts yearly surveys on Data Science and Data Engineers positions highlighting the main factors that can influence data professionals' salaries. In that [survey](http://www.oreilly.com/data/free/2016-data-science-salary-survey.csp) a linear regression model incorporating the most relevant career influencing variables was compiled. \n",
    "\n",
    "**This notebook is designed to allow data scientists and data engineers to plug in their own data (see User Parameters section) to find out whether their current 2016 salary is aligned with their market value. **\n",
    "\n",
    "According to the authors of the survey, their model is able to explain roughly 75% of the variance in the data:\n",
    "\n",
    "_\"Our model explains about three-quarters of the variance in the sample salaries (with an R2 of 0.747). Roughly half of the salary variance is due to geography and experience. Given the important factors that can not be captured in the survey—for example, we don’t measure competence or evaluate the quality of respondents’ work output—it’s not surprising that a large amount of variance is left unexplained.\"_\n",
    "\n"
   ]
  },
  {
   "cell_type": "markdown",
   "metadata": {},
   "source": [
    "# Modules Used"
   ]
  },
  {
   "cell_type": "code",
   "execution_count": 43,
   "metadata": {
    "collapsed": false
   },
   "outputs": [],
   "source": [
    "import pandas as pd\n",
    "import locale\n",
    "from copy import copy\n",
    "from decimal import Decimal\n",
    "locale.setlocale( locale.LC_ALL, 'en_US.UTF-8' )\n",
    "from IPython.display import display"
   ]
  },
  {
   "cell_type": "markdown",
   "metadata": {},
   "source": [
    "# Model Parameters"
   ]
  },
  {
   "cell_type": "code",
   "execution_count": 44,
   "metadata": {
    "collapsed": false
   },
   "outputs": [],
   "source": [
    "usgs = pd.read_csv(\"usgs_state_2016.csv\")\n",
    "#drop garbage columns\n",
    "cols_interest = [x for x in usgs.columns if x == 'State' or x=='Gross State Product']\n",
    "usgs = usgs[cols_interest]\n",
    "usgs.dropna(inplace=True)\n",
    "#convert numbers represented as strings to float64 dtypes\n",
    "usgs.loc[:, 'Gross State Product'] = usgs.loc[:, 'Gross State Product'].apply(locale.atof)"
   ]
  },
  {
   "cell_type": "markdown",
   "metadata": {
    "button": false,
    "deletable": true,
    "new_sheet": false,
    "run_control": {
     "read_only": false
    }
   },
   "source": [
    "# User Parameters:"
   ]
  },
  {
   "cell_type": "code",
   "execution_count": 45,
   "metadata": {
    "button": false,
    "collapsed": false,
    "deletable": true,
    "new_sheet": false,
    "run_control": {
     "read_only": false
    }
   },
   "outputs": [],
   "source": [
    "state = 'California'\n",
    "gender='Male'\n",
    "years_experience = 3\n",
    "bargaining_skill_points = 5 #scale of 1 to 5\n",
    "age = 34 \n",
    "academic_specialty='Math'\n",
    "have_phd = 1\n",
    "currently_student=0\n",
    "industry='Software'\n",
    "company_size= 100\n",
    "company_age=16\n",
    "coding_amount='over 20 hours/week'\n",
    "meetings='1 to 3 hours/week'\n",
    "work_week = 40\n",
    "job_title='Upper Management'#Senior Engineer/Developer'\n",
    "etl_involvement='Minor'\n",
    "setting_up_maintaining_data_platforms='NA'\n",
    "developing_prototype_models='Major'\n",
    "developing_hardware='Minor'\n",
    "organizing_guiding_team_projects='Major'\n",
    "identifying_bus_analytics_problems='Major'\n",
    "communicating_people_outside_company='Major'\n",
    "most_work_done_with_cloud_computing=1\n",
    "languages_used='Python'\n",
    "tools_used='Unix, PostgreSQL, SQLite, MongoDB, Redshift, Spark, Hive, Spark Mlib'"
   ]
  },
  {
   "cell_type": "markdown",
   "metadata": {
    "button": false,
    "deletable": true,
    "new_sheet": false,
    "run_control": {
     "read_only": false
    }
   },
   "source": [
    "# Weighting:"
   ]
  },
  {
   "cell_type": "markdown",
   "metadata": {},
   "source": [
    "## Scaler Functions and Dictionaries"
   ]
  },
  {
   "cell_type": "code",
   "execution_count": 46,
   "metadata": {
    "collapsed": false
   },
   "outputs": [],
   "source": [
    "def age_scaler(age):\n",
    "    scale=None\n",
    "    if 26 <= age <=30:\n",
    "        scale = 17.2\n",
    "    elif 31 <= age <= 35:\n",
    "        scale = 22.5\n",
    "    elif 36 <= age <= 65:\n",
    "        scale = 38.5\n",
    "    return scale\n",
    "\n",
    "def company_size_scaler(size):\n",
    "    if x < 0:\n",
    "        raise ValueError(\"No negatives allowed\")\n",
    "    elif 0 <= x <= 500:\n",
    "        return 0\n",
    "    elif 501 <= x <= 10000:\n",
    "        return 3.6\n",
    "    else:\n",
    "        return 7.7\n",
    "\n",
    "def coding_amount_scaler(amt):\n",
    "    if 0 <= x < 1:\n",
    "        return 0\n",
    "    elif 1 <= x <= 3:\n",
    "        return -8.2\n",
    "    elif 4 <= x <= 20:\n",
    "        return -3\n",
    "    else:\n",
    "        return -0.5\n",
    "    \n",
    "def meeting_scaler(num_meetings):\n",
    "    if x < 1:\n",
    "        return 0\n",
    "    elif 1 < x <= 3:\n",
    "        return 1\n",
    "    elif 4 <= x <= 8:\n",
    "        return 9.2\n",
    "    elif 9 <= x <= 20:\n",
    "        return 20.6\n",
    "    else:\n",
    "        return 21.1\n",
    "    \n",
    "def work_week_scaler(amt_worked):\n",
    "    if amt_worked < 46:\n",
    "        return 0\n",
    "    elif 46 <= amt_worked <= 60:\n",
    "        return 1\n",
    "    else:\n",
    "        return -2.4\n",
    "\n",
    "\n",
    "    \n",
    "def languages_used_scaler(array_langs):\n",
    "    sum = 0\n",
    "    if 'Python' in array_langs:\n",
    "        sum+=4.6\n",
    "    elif 'JavaScript' in array_langs:\n",
    "        sum+=-2.2\n",
    "    elif 'Excel' in array_langs:\n",
    "        sum+=-7.4\n",
    "    return sum\n",
    "\n",
    "def tools_used_scaler(tools_array):\n",
    "    cluster_0 = ['MySQL', 'PostgreSQL', 'SQLite', 'Redshift', 'Vertica', 'Redis', 'Ruby']  \n",
    "    cluster_1 = ['Spark', 'Unix', 'Spark MlLib', 'ElasticSearch', 'Scala', 'H2O', 'EMC/Greenplum', 'Mahout']\n",
    "    cluster_2 = ['Hive', 'Apache Hadoop', 'Cloudera', 'Hortonworks', 'Hbase', 'Pig', 'Impala']\n",
    "    cluster_3 = ['Tableau', 'Teradata', 'Netezza (IBM)', 'Microstrategy', 'Aster Data (Teradata)', 'Jaspersoft']\n",
    "    cluster_4 = ['MongoDB', 'Kafka', 'Cassandra', 'Zookeeper', 'Storm', 'JavaScript InfoVis Toolkit', 'Go', 'Couchbase']\n",
    "    clusters = [cluster_0, cluster_1, cluster_2, cluster_3, cluster_4]\n",
    "    cluster_ops=[0, 0, 0, 0, 0]\n",
    "    \n",
    "    for item in tools_array:\n",
    "        for i in range(5):\n",
    "            if item in clusters[i]:\n",
    "                cluster_ops[i]+=1\n",
    "    cluster_ops_maxed = copy(cluster_ops)\n",
    "    for i, item in enumerate(cluster_ops):\n",
    "        if i==0 or i==4:\n",
    "            cluster_ops[i] = min(item, 4)\n",
    "        elif i==1 or i==2:\n",
    "            cluster_ops[i] = min(item, 5)\n",
    "        else:\n",
    "            cluster_ops[i] = min(item, 3)\n",
    "    \n",
    "    scaling_factors = [1.7, 3.9, 1.5, 2.4, 1.3]\n",
    "    scaled = sum([a*b for a,b in zip(cluster_ops_maxed, scaling_factors)])\n",
    "    return scaled\n",
    "\n",
    "job_title_scaler = {'Upper Management': 20.2, 'Engineer/Developer/Programmer': -0.9, 'Manager': 3.1, 'Researcher': -1,\n",
    "                   'Architect': 14.3, 'Senior Engineer/Developer': 4.6}\n",
    "\n",
    "industry_scales = {'Software': 2.2, 'Banking/Finance': 3.0, 'Advertising/Marketing/PR': -2.0, 'Education': -24.5,\n",
    "                  'Computers/Hardware': -3.9, 'Search/Social Networking': 7.1}\n",
    "etl_scaler = {'NA': 0, 'Minor': 4.5, 'Major': -1.9}\n",
    "developing_prototype_models_scaler={'NA': 0, 'Minor': 4.4, 'Major': 12.1}\n",
    "developing_hardware_scaler = {'NA': 0, 'Minor': 0, 'Major': -1.3}\n",
    "organizing_guiding_team_projects_scaler = {'NA': 0, 'Minor': 0, 'Major': 9.7}\n",
    "ibap_scaler = {'NA': 0, 'Minor': 1.5, 'Major': 6.7}\n",
    "cpoc_scaler = {'NA': 0, 'Minor': 0, 'Major': 5.4}\n",
    "data_platforms_scaler = {'NA': 0, 'Minor': -4.9, 'Major': -4.9}"
   ]
  },
  {
   "cell_type": "code",
   "execution_count": 47,
   "metadata": {
    "collapsed": false
   },
   "outputs": [],
   "source": [
    "results=dict(constant=60,\n",
    "state_gdp_scaled = 2.6 * usgs[usgs['State'] == state]['Gross State Product'] / float(1000),\n",
    "gender_scaled = (-7.8 if gender is 'Female' else 0),\n",
    "years_experience_scaled = 3.8 * years_experience,\n",
    "bargaining_skill_points_scaled = 7.4 * bargaining_skill_points,\n",
    "age_scaled = age_scaler(age),\n",
    "academic_specialty_scaled = 3.9 * (1 if academic_specialty in ['Math', 'Physics', 'Statistics'] else 0),\n",
    "have_phd_scaled = 12.2 * have_phd,\n",
    "currently_student_scaled= -9.7 * currently_student,\n",
    "industry_scaled = industry_scales.get(industry),\n",
    "company_size_scaled = company_size_scaler(company_size),\n",
    "company_age_scaled = (-4.3 if company_age > 10 else 0),\n",
    "coding_amount_scaled = coding_amount_scaler(coding_amount),\n",
    "meetings_scaled = meeting_scaler(meetings),\n",
    "work_week_scaled = work_week_scaler(work_week),\n",
    "job_title_scaled = job_title_scaler.get(job_title),\n",
    "etl_scaled = etl_scaler.get(etl_involvement),\n",
    "setting_up_maintaining_data_platforms_scaled=data_platforms_scaler.get(setting_up_maintaining_data_platforms),\n",
    "developing_prototype_models_scaled = developing_prototype_models_scaler.get(developing_prototype_models),\n",
    "developing_hardware_scaled = developing_hardware_scaler.get(developing_hardware),\n",
    "organizing_guiding_team_projects_scaled = organizing_guiding_team_projects_scaler.get(organizing_guiding_team_projects),\n",
    "identifying_bus_analytics_problems_scaled = ibap_scaler.get(identifying_bus_analytics_problems),\n",
    "communicating_people_outside_company_scaled = cpoc_scaler.get(communicating_people_outside_company),\n",
    "most_work_done_with_cloud_computing_scaled = (3.2 if most_work_done_with_cloud_computing == 1 else 0),\n",
    "languages_used_scaled = languages_used_scaler(languages_used.split(\", \")),\n",
    "tools_used_scaled = tools_used_scaler(tools_used.split(\", \")))"
   ]
  },
  {
   "cell_type": "markdown",
   "metadata": {
    "button": false,
    "deletable": true,
    "new_sheet": false,
    "run_control": {
     "read_only": false
    }
   },
   "source": [
    "# Results:"
   ]
  },
  {
   "cell_type": "code",
   "execution_count": 48,
   "metadata": {
    "collapsed": false
   },
   "outputs": [
    {
     "data": {
      "text/html": [
       "<div>\n",
       "<table border=\"1\" class=\"dataframe\">\n",
       "  <thead>\n",
       "    <tr style=\"text-align: right;\">\n",
       "      <th></th>\n",
       "      <th>0</th>\n",
       "    </tr>\n",
       "  </thead>\n",
       "  <tbody>\n",
       "    <tr>\n",
       "      <th>academic_specialty_scaled</th>\n",
       "      <td>3.9</td>\n",
       "    </tr>\n",
       "    <tr>\n",
       "      <th>age_scaled</th>\n",
       "      <td>22.5</td>\n",
       "    </tr>\n",
       "    <tr>\n",
       "      <th>bargaining_skill_points_scaled</th>\n",
       "      <td>37</td>\n",
       "    </tr>\n",
       "    <tr>\n",
       "      <th>coding_amount_scaled</th>\n",
       "      <td>-0.5</td>\n",
       "    </tr>\n",
       "    <tr>\n",
       "      <th>communicating_people_outside_company_scaled</th>\n",
       "      <td>5.4</td>\n",
       "    </tr>\n",
       "    <tr>\n",
       "      <th>company_age_scaled</th>\n",
       "      <td>-4.3</td>\n",
       "    </tr>\n",
       "    <tr>\n",
       "      <th>company_size_scaled</th>\n",
       "      <td>7.7</td>\n",
       "    </tr>\n",
       "    <tr>\n",
       "      <th>constant</th>\n",
       "      <td>60</td>\n",
       "    </tr>\n",
       "    <tr>\n",
       "      <th>currently_student_scaled</th>\n",
       "      <td>-0</td>\n",
       "    </tr>\n",
       "    <tr>\n",
       "      <th>developing_hardware_scaled</th>\n",
       "      <td>0</td>\n",
       "    </tr>\n",
       "    <tr>\n",
       "      <th>developing_prototype_models_scaled</th>\n",
       "      <td>12.1</td>\n",
       "    </tr>\n",
       "    <tr>\n",
       "      <th>etl_scaled</th>\n",
       "      <td>4.5</td>\n",
       "    </tr>\n",
       "    <tr>\n",
       "      <th>gender_scaled</th>\n",
       "      <td>0</td>\n",
       "    </tr>\n",
       "    <tr>\n",
       "      <th>have_phd_scaled</th>\n",
       "      <td>12.2</td>\n",
       "    </tr>\n",
       "    <tr>\n",
       "      <th>identifying_bus_analytics_problems_scaled</th>\n",
       "      <td>6.7</td>\n",
       "    </tr>\n",
       "    <tr>\n",
       "      <th>industry_scaled</th>\n",
       "      <td>2.2</td>\n",
       "    </tr>\n",
       "    <tr>\n",
       "      <th>job_title_scaled</th>\n",
       "      <td>20.2</td>\n",
       "    </tr>\n",
       "    <tr>\n",
       "      <th>languages_used_scaled</th>\n",
       "      <td>4.6</td>\n",
       "    </tr>\n",
       "    <tr>\n",
       "      <th>meetings_scaled</th>\n",
       "      <td>21.1</td>\n",
       "    </tr>\n",
       "    <tr>\n",
       "      <th>most_work_done_with_cloud_computing_scaled</th>\n",
       "      <td>3.2</td>\n",
       "    </tr>\n",
       "    <tr>\n",
       "      <th>organizing_guiding_team_projects_scaled</th>\n",
       "      <td>9.7</td>\n",
       "    </tr>\n",
       "    <tr>\n",
       "      <th>setting_up_maintaining_data_platforms_scaled</th>\n",
       "      <td>0</td>\n",
       "    </tr>\n",
       "    <tr>\n",
       "      <th>state_gdp_scaled</th>\n",
       "      <td>168.822</td>\n",
       "    </tr>\n",
       "    <tr>\n",
       "      <th>tools_used_scaled</th>\n",
       "      <td>15.7</td>\n",
       "    </tr>\n",
       "    <tr>\n",
       "      <th>work_week_scaled</th>\n",
       "      <td>0</td>\n",
       "    </tr>\n",
       "    <tr>\n",
       "      <th>years_experience_scaled</th>\n",
       "      <td>11.4</td>\n",
       "    </tr>\n",
       "  </tbody>\n",
       "</table>\n",
       "</div>"
      ],
      "text/plain": [
       "                                                    0\n",
       "academic_specialty_scaled                         3.9\n",
       "age_scaled                                       22.5\n",
       "bargaining_skill_points_scaled                     37\n",
       "coding_amount_scaled                             -0.5\n",
       "communicating_people_outside_company_scaled       5.4\n",
       "company_age_scaled                               -4.3\n",
       "company_size_scaled                               7.7\n",
       "constant                                           60\n",
       "currently_student_scaled                           -0\n",
       "developing_hardware_scaled                          0\n",
       "developing_prototype_models_scaled               12.1\n",
       "etl_scaled                                        4.5\n",
       "gender_scaled                                       0\n",
       "have_phd_scaled                                  12.2\n",
       "identifying_bus_analytics_problems_scaled         6.7\n",
       "industry_scaled                                   2.2\n",
       "job_title_scaled                                 20.2\n",
       "languages_used_scaled                             4.6\n",
       "meetings_scaled                                  21.1\n",
       "most_work_done_with_cloud_computing_scaled        3.2\n",
       "organizing_guiding_team_projects_scaled           9.7\n",
       "setting_up_maintaining_data_platforms_scaled        0\n",
       "state_gdp_scaled                              168.822\n",
       "tools_used_scaled                                15.7\n",
       "work_week_scaled                                    0\n",
       "years_experience_scaled                          11.4"
      ]
     },
     "execution_count": 48,
     "metadata": {},
     "output_type": "execute_result"
    }
   ],
   "source": [
    "results_df = pd.DataFrame.from_dict(results, orient='index', dtype=float)\n",
    "for_display = results_df.apply(lambda x: \"%g\" % x, axis=1)\n",
    "pd.DataFrame(for_display.sort_index())"
   ]
  },
  {
   "cell_type": "code",
   "execution_count": 49,
   "metadata": {
    "button": false,
    "collapsed": false,
    "deletable": true,
    "new_sheet": false,
    "run_control": {
     "read_only": false
    }
   },
   "outputs": [
    {
     "name": "stdout",
     "output_type": "stream",
     "text": [
      "According to the model, your predicted salary is $179,879.61\n"
     ]
    }
   ],
   "source": [
    "predicted = results_df.apply(lambda x: sum(x) ** 2, axis=0)\n",
    "print('According to the model, your predicted salary is {}'.format(locale.currency(predicted.ix[0,:], symbol=True, grouping=True)))"
   ]
  },
  {
   "cell_type": "code",
   "execution_count": null,
   "metadata": {
    "collapsed": true
   },
   "outputs": [],
   "source": []
  }
 ],
 "metadata": {
  "anaconda-cloud": {},
  "kernelspec": {
   "display_name": "Python [default]",
   "language": "python",
   "name": "python2"
  },
  "language_info": {
   "codemirror_mode": {
    "name": "ipython",
    "version": 2
   },
   "file_extension": ".py",
   "mimetype": "text/x-python",
   "name": "python",
   "nbconvert_exporter": "python",
   "pygments_lexer": "ipython2",
   "version": "2.7.12"
  }
 },
 "nbformat": 4,
 "nbformat_minor": 0
}
